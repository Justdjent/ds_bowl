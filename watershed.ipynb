{
 "cells": [
  {
   "cell_type": "code",
   "execution_count": 4,
   "metadata": {},
   "outputs": [
    {
     "ename": "ModuleNotFoundError",
     "evalue": "No module named 'cv2'",
     "output_type": "error",
     "traceback": [
      "\u001b[1;31m---------------------------------------------------------------------------\u001b[0m",
      "\u001b[1;31mModuleNotFoundError\u001b[0m                       Traceback (most recent call last)",
      "\u001b[1;32m<ipython-input-4-23ee8d85fc27>\u001b[0m in \u001b[0;36m<module>\u001b[1;34m()\u001b[0m\n\u001b[1;32m----> 1\u001b[1;33m \u001b[1;32mimport\u001b[0m \u001b[0mcv2\u001b[0m\u001b[1;33m\u001b[0m\u001b[0m\n\u001b[0m\u001b[0;32m      2\u001b[0m \u001b[1;32mimport\u001b[0m \u001b[0mmatplotlib\u001b[0m\u001b[1;33m.\u001b[0m\u001b[0mpyplot\u001b[0m \u001b[1;32mas\u001b[0m \u001b[0mplt\u001b[0m\u001b[1;33m\u001b[0m\u001b[0m\n\u001b[0;32m      3\u001b[0m \u001b[1;32mimport\u001b[0m \u001b[0mnumpy\u001b[0m \u001b[1;32mas\u001b[0m \u001b[0mnp\u001b[0m\u001b[1;33m\u001b[0m\u001b[0m\n\u001b[0;32m      4\u001b[0m \u001b[1;32mimport\u001b[0m \u001b[0mos\u001b[0m\u001b[1;33m\u001b[0m\u001b[0m\n\u001b[0;32m      5\u001b[0m \u001b[1;32mfrom\u001b[0m \u001b[0mtqdm\u001b[0m \u001b[1;32mimport\u001b[0m \u001b[0mtqdm\u001b[0m\u001b[1;33m\u001b[0m\u001b[0m\n",
      "\u001b[1;31mModuleNotFoundError\u001b[0m: No module named 'cv2'"
     ]
    }
   ],
   "source": [
    "import cv2\n",
    "import matplotlib.pyplot as plt\n",
    "import numpy as np\n",
    "import os\n",
    "from tqdm import tqdm\n",
    "from PIL import Image\n",
    "%matplotlib inline"
   ]
  },
  {
   "cell_type": "code",
   "execution_count": 3,
   "metadata": {},
   "outputs": [
    {
     "ename": "ModuleNotFoundError",
     "evalue": "No module named 'cv2'",
     "output_type": "error",
     "traceback": [
      "\u001b[1;31m---------------------------------------------------------------------------\u001b[0m",
      "\u001b[1;31mModuleNotFoundError\u001b[0m                       Traceback (most recent call last)",
      "\u001b[1;32m<ipython-input-3-c8ec22b3e787>\u001b[0m in \u001b[0;36m<module>\u001b[1;34m()\u001b[0m\n\u001b[1;32m----> 1\u001b[1;33m \u001b[1;32mimport\u001b[0m \u001b[0mcv2\u001b[0m\u001b[1;33m\u001b[0m\u001b[0m\n\u001b[0m",
      "\u001b[1;31mModuleNotFoundError\u001b[0m: No module named 'cv2'"
     ]
    }
   ],
   "source": [
    "import cv2"
   ]
  },
  {
   "cell_type": "code",
   "execution_count": 4,
   "metadata": {},
   "outputs": [],
   "source": [
    "mask = cv2.imread('data/stage1_train_/00071198d059ba7f5914a526d124d28e6d010c92466da21d4a04cd5413362552/masksmask.png', 0)\n",
    "image = cv2.imread('data/stage1_train_/00071198d059ba7f5914a526d124d28e6d010c92466da21d4a04cd5413362552/images/00071198d059ba7f5914a526d124d28e6d010c92466da21d4a04cd5413362552.png', 0)"
   ]
  },
  {
   "cell_type": "code",
   "execution_count": 54,
   "metadata": {},
   "outputs": [],
   "source": [
    "imgs = os.listdir('data/stage1_test/')"
   ]
  },
  {
   "cell_type": "code",
   "execution_count": 76,
   "metadata": {},
   "outputs": [],
   "source": [
    "def split_mask(step, image, save_folder):\n",
    "    # path = \"data/stage1_train_/{}/masksmask.png\".format(image)\n",
    "    path = \"data/stage1_test/{}/images/{}.png\".format(image, image)\n",
    "    mask = cv2.imread(path)\n",
    "    print(mask.shape)\n",
    "    height, width, _ =  mask.shape\n",
    "    matrices = []\n",
    "    cnt_h = 0\n",
    "    cnt_w = 0\n",
    "    while (height > 0):\n",
    "        if height > step:\n",
    "            step_h = step\n",
    "            b = (cnt_h+1)*step_h\n",
    "            a = cnt_h*step_h\n",
    "        else:\n",
    "            step_h = step\n",
    "            b = mask.shape[0]\n",
    "            a = mask.shape[0]-step_h\n",
    "#             print(a,b)\n",
    "        width = mask.shape[1]\n",
    "        cnt_w = 0\n",
    "#         print(width)\n",
    "        while (width > 0):\n",
    "            zeros = np.zeros((step, step))\n",
    "            if width > step:\n",
    "                step_w = step\n",
    "                zeros = mask[a:b, cnt_w*step_w:(cnt_w+1)*step_w]\n",
    "#                 print(cnt_w*step_w, (cnt_w+1)*step_w)\n",
    "#                 print(a, b)\n",
    "            else:\n",
    "                step_w = step\n",
    "#                 print(step_w)\n",
    "                zeros = mask[a:b, (mask.shape[1] - step_w):mask.shape[1]]\n",
    "#                 print((mask.shape[1] - width), mask.shape[1])\n",
    "#                 print(a, b)\n",
    "            cnt_w += 1\n",
    "#             print(cnt_w)\n",
    "            matrices.append(zeros)\n",
    "            cv2.imwrite('{}/{}_{}_{}.png'.format(save_folder, image, cnt_h, cnt_w), zeros)\n",
    "            width = width - step_w\n",
    "        cnt_h +=1\n",
    "#         print('1')\n",
    "        height = height - step_h\n",
    "    print(len(matrices))\n",
    "    # return matrices"
   ]
  },
  {
   "cell_type": "code",
   "execution_count": 77,
   "metadata": {},
   "outputs": [
    {
     "name": "stdout",
     "output_type": "stream",
     "text": [
      "(390, 239, 3)\n",
      "8\n"
     ]
    }
   ],
   "source": [
    "m = split_mask(128, imgs[1], 'data/cropped_test/')"
   ]
  },
  {
   "cell_type": "code",
   "execution_count": 78,
   "metadata": {
    "collapsed": true
   },
   "outputs": [
    {
     "name": "stdout",
     "output_type": "stream",
     "text": [
      "(256, 256, 3)\n",
      "4\n",
      "(390, 239, 3)\n",
      "8\n",
      "(256, 256, 3)\n",
      "4\n",
      "(256, 256, 3)\n",
      "4\n",
      "(256, 256, 3)\n",
      "4\n",
      "(256, 256, 3)\n",
      "4\n",
      "(512, 640, 3)\n",
      "20\n",
      "(256, 256, 3)\n",
      "4\n",
      "(519, 253, 3)\n",
      "10\n",
      "(520, 696, 3)\n",
      "30\n",
      "(512, 680, 3)\n",
      "24\n",
      "(256, 256, 3)\n",
      "4\n",
      "(256, 256, 3)\n",
      "4\n",
      "(256, 256, 3)\n",
      "4\n",
      "(512, 680, 3)\n",
      "24\n",
      "(256, 256, 3)\n",
      "4\n",
      "(256, 256, 3)\n",
      "4\n",
      "(520, 348, 3)\n",
      "15\n",
      "(512, 640, 3)\n",
      "20\n",
      "(256, 256, 3)\n",
      "4\n",
      "(512, 680, 3)\n",
      "24\n",
      "(512, 640, 3)\n",
      "20\n",
      "(512, 640, 3)\n",
      "20\n",
      "(519, 253, 3)\n",
      "10\n",
      "(524, 348, 3)\n",
      "15\n",
      "(512, 680, 3)\n",
      "24\n",
      "(519, 253, 3)\n",
      "10\n",
      "(260, 347, 3)\n",
      "9\n",
      "(512, 640, 3)\n",
      "20\n",
      "(256, 256, 3)\n",
      "4\n",
      "(512, 640, 3)\n",
      "20\n",
      "(512, 680, 3)\n",
      "24\n",
      "(256, 256, 3)\n",
      "4\n",
      "(520, 696, 3)\n",
      "30\n",
      "(520, 348, 3)\n",
      "15\n",
      "(524, 348, 3)\n",
      "15\n",
      "(520, 696, 3)\n",
      "30\n",
      "(256, 256, 3)\n",
      "4\n",
      "(519, 161, 3)\n",
      "10\n",
      "(524, 348, 3)\n",
      "15\n",
      "(256, 256, 3)\n",
      "4\n",
      "(512, 680, 3)\n",
      "24\n",
      "(519, 162, 3)\n",
      "10\n",
      "(524, 348, 3)\n",
      "15\n",
      "(256, 256, 3)\n",
      "4\n",
      "(256, 256, 3)\n",
      "4\n",
      "(260, 347, 3)\n",
      "9\n",
      "(256, 256, 3)\n",
      "4\n",
      "(512, 640, 3)\n",
      "20\n",
      "(256, 256, 3)\n",
      "4\n",
      "(256, 256, 3)\n",
      "4\n",
      "(512, 680, 3)\n",
      "24\n",
      "(519, 253, 3)\n",
      "10\n",
      "(520, 348, 3)\n",
      "15\n",
      "(519, 162, 3)\n",
      "10\n",
      "(260, 347, 3)\n",
      "9\n",
      "(260, 347, 3)\n",
      "9\n",
      "(519, 161, 3)\n",
      "10\n",
      "(256, 256, 3)\n",
      "4\n",
      "(256, 256, 3)\n",
      "4\n",
      "(520, 696, 3)\n",
      "30\n",
      "(512, 640, 3)\n",
      "20\n",
      "(512, 680, 3)\n",
      "24\n",
      "(520, 348, 3)\n",
      "15\n",
      "(256, 256, 3)\n",
      "4\n"
     ]
    },
    {
     "data": {
      "text/plain": [
       "[None,\n",
       " None,\n",
       " None,\n",
       " None,\n",
       " None,\n",
       " None,\n",
       " None,\n",
       " None,\n",
       " None,\n",
       " None,\n",
       " None,\n",
       " None,\n",
       " None,\n",
       " None,\n",
       " None,\n",
       " None,\n",
       " None,\n",
       " None,\n",
       " None,\n",
       " None,\n",
       " None,\n",
       " None,\n",
       " None,\n",
       " None,\n",
       " None,\n",
       " None,\n",
       " None,\n",
       " None,\n",
       " None,\n",
       " None,\n",
       " None,\n",
       " None,\n",
       " None,\n",
       " None,\n",
       " None,\n",
       " None,\n",
       " None,\n",
       " None,\n",
       " None,\n",
       " None,\n",
       " None,\n",
       " None,\n",
       " None,\n",
       " None,\n",
       " None,\n",
       " None,\n",
       " None,\n",
       " None,\n",
       " None,\n",
       " None,\n",
       " None,\n",
       " None,\n",
       " None,\n",
       " None,\n",
       " None,\n",
       " None,\n",
       " None,\n",
       " None,\n",
       " None,\n",
       " None,\n",
       " None,\n",
       " None,\n",
       " None,\n",
       " None,\n",
       " None]"
      ]
     },
     "execution_count": 78,
     "metadata": {},
     "output_type": "execute_result"
    }
   ],
   "source": [
    "[split_mask(128, img, 'data/cropped_test/') for img in imgs]"
   ]
  },
  {
   "cell_type": "code",
   "execution_count": 83,
   "metadata": {},
   "outputs": [],
   "source": [
    "out = os.listdir('output/mask')"
   ]
  },
  {
   "cell_type": "code",
   "execution_count": 139,
   "metadata": {},
   "outputs": [
    {
     "data": {
      "text/plain": [
       "array([['df40099c6306ca1f47fcc8a62e2fa39486d4e223177afdc51b2ad189691802d8',\n",
       "        '0', '1', '0'],\n",
       "       ['df40099c6306ca1f47fcc8a62e2fa39486d4e223177afdc51b2ad189691802d8',\n",
       "        '2', '1', '0'],\n",
       "       ['df40099c6306ca1f47fcc8a62e2fa39486d4e223177afdc51b2ad189691802d8',\n",
       "        '1', '3', '0'],\n",
       "       ['df40099c6306ca1f47fcc8a62e2fa39486d4e223177afdc51b2ad189691802d8',\n",
       "        '0', '2', '0'],\n",
       "       ['df40099c6306ca1f47fcc8a62e2fa39486d4e223177afdc51b2ad189691802d8',\n",
       "        '1', '1', '0'],\n",
       "       ['df40099c6306ca1f47fcc8a62e2fa39486d4e223177afdc51b2ad189691802d8',\n",
       "        '0', '3', '0'],\n",
       "       ['df40099c6306ca1f47fcc8a62e2fa39486d4e223177afdc51b2ad189691802d8',\n",
       "        '2', '2', '0'],\n",
       "       ['df40099c6306ca1f47fcc8a62e2fa39486d4e223177afdc51b2ad189691802d8',\n",
       "        '1', '2', '0'],\n",
       "       ['df40099c6306ca1f47fcc8a62e2fa39486d4e223177afdc51b2ad189691802d8',\n",
       "        '2', '3', '0']],\n",
       "      dtype='<U64')"
      ]
     },
     "execution_count": 139,
     "metadata": {},
     "output_type": "execute_result"
    }
   ],
   "source": [
    "np_out = np.array([i.split('_', 3) for i in outs])\n",
    "np_out[(np_out[:, 0] == 'df40099c6306ca1f47fcc8a62e2fa39486d4e223177afdc51b2ad189691802d8') & (np_out[:, -1] == '0')]"
   ]
  },
  {
   "cell_type": "code",
   "execution_count": 104,
   "metadata": {},
   "outputs": [],
   "source": [
    "outs = [i.split('.', 1)[0] for i in out]\n",
    "outs_ = [i.split('_', 3)[0] for i in outs]\n",
    "indxs = [i for i, j in enumerate(outs_) if j == 'df40099c6306ca1f47fcc8a62e2fa39486d4e223177afdc51b2ad189691802d8']"
   ]
  },
  {
   "cell_type": "code",
   "execution_count": 107,
   "metadata": {},
   "outputs": [],
   "source": [
    "indxs = [i for i, j in enumerate(outs_) if j == 'df40099c6306ca1f47fcc8a62e2fa39486d4e223177afdc51b2ad189691802d8']"
   ]
  },
  {
   "cell_type": "code",
   "execution_count": 113,
   "metadata": {},
   "outputs": [],
   "source": [
    "lol = [outs[i] for i in indxs]"
   ]
  },
  {
   "cell_type": "code",
   "execution_count": 115,
   "metadata": {},
   "outputs": [],
   "source": [
    "xc = [i.split('_', 3)[-1] for i in lol]"
   ]
  },
  {
   "cell_type": "code",
   "execution_count": 119,
   "metadata": {},
   "outputs": [],
   "source": [
    "zero_st = [i for i, j in enumerate(xc) if j == '0']"
   ]
  },
  {
   "cell_type": "code",
   "execution_count": 123,
   "metadata": {},
   "outputs": [],
   "source": [
    "stuff = [lol[i] for i in zero_st]"
   ]
  },
  {
   "cell_type": "code",
   "execution_count": 124,
   "metadata": {},
   "outputs": [
    {
     "data": {
      "text/plain": [
       "['df40099c6306ca1f47fcc8a62e2fa39486d4e223177afdc51b2ad189691802d8_0_1_0',\n",
       " 'df40099c6306ca1f47fcc8a62e2fa39486d4e223177afdc51b2ad189691802d8_0_2_0',\n",
       " 'df40099c6306ca1f47fcc8a62e2fa39486d4e223177afdc51b2ad189691802d8_0_3_0',\n",
       " 'df40099c6306ca1f47fcc8a62e2fa39486d4e223177afdc51b2ad189691802d8_1_1_0',\n",
       " 'df40099c6306ca1f47fcc8a62e2fa39486d4e223177afdc51b2ad189691802d8_1_2_0',\n",
       " 'df40099c6306ca1f47fcc8a62e2fa39486d4e223177afdc51b2ad189691802d8_1_3_0',\n",
       " 'df40099c6306ca1f47fcc8a62e2fa39486d4e223177afdc51b2ad189691802d8_2_1_0',\n",
       " 'df40099c6306ca1f47fcc8a62e2fa39486d4e223177afdc51b2ad189691802d8_2_2_0',\n",
       " 'df40099c6306ca1f47fcc8a62e2fa39486d4e223177afdc51b2ad189691802d8_2_3_0']"
      ]
     },
     "execution_count": 124,
     "metadata": {},
     "output_type": "execute_result"
    }
   ],
   "source": [
    "sorted(stuff)"
   ]
  },
  {
   "cell_type": "code",
   "execution_count": 210,
   "metadata": {},
   "outputs": [],
   "source": [
    "def get_sorted_names(name, file_list, ch):\n",
    "    outs = [i.split('.', 1)[0] for i in out]\n",
    "    np_out = np.array([i.split('_', 3) for i in outs])\n",
    "    zero_st = [(np_out[:, 0] == name) & (np_out[:, -1] == ch)]\n",
    "    stuff = np.array(file_list)[zero_st]\n",
    "    return sorted(stuff)"
   ]
  },
  {
   "cell_type": "code",
   "execution_count": 214,
   "metadata": {},
   "outputs": [],
   "source": [
    "def join_mask(step, image, crop_folder, save_folder, ch):\n",
    "    # path = \"data/stage1_train_/{}/masksmask.png\".format(image)\n",
    "    out = os.listdir(crop_folder)\n",
    "    path = \"data/stage1_test/{}/images/{}.png\".format(image, image)\n",
    "    crops = get_sorted_names(image, out, ch)\n",
    "    mask = cv2.imread(path)\n",
    "    height, width, _ =  mask.shape\n",
    "    matrices = []\n",
    "    zeros = np.zeros((height, width))\n",
    "    cnt = 0\n",
    "    cnt_h = 0\n",
    "    cnt_w = 0\n",
    "    while (height > 0):\n",
    "        if height > step:\n",
    "            step_h = step\n",
    "            b = (cnt_h+1)*step_h\n",
    "            a = cnt_h*step_h\n",
    "        else:\n",
    "            step_h = step\n",
    "            b = mask.shape[0]\n",
    "            a = mask.shape[0]-step_h\n",
    "        width = mask.shape[1]\n",
    "        cnt_w = 0\n",
    "        while (width > 0):\n",
    "            \n",
    "            if width > step:\n",
    "                step_w = step\n",
    "                read_path = os.path.join(crop_folder, crops[cnt])\n",
    "                zeros[a:b,cnt_w*step_w:(cnt_w+1)*step_w] = cv2.imread(read_path, 0)\n",
    "                \n",
    "            else:\n",
    "                step_w = step\n",
    "                read_path = os.path.join(crop_folder, crops[cnt])\n",
    "                zeros[a:b,(mask.shape[1] - step_w):mask.shape[1]] = cv2.imread(read_path, 0)\n",
    "            cnt_w += 1\n",
    "            cnt += 1\n",
    "            matrices.append(zeros)\n",
    "            \n",
    "            width = width - step_w\n",
    "        cnt_h +=1\n",
    "        height = height - step_h\n",
    "    cv2.imwrite('{}/{}_{}.png'.format(save_folder, image, ch), zeros)"
   ]
  },
  {
   "cell_type": "code",
   "execution_count": 215,
   "metadata": {},
   "outputs": [],
   "source": [
    "join_mask(128, 'df40099c6306ca1f47fcc8a62e2fa39486d4e223177afdc51b2ad189691802d8',\n",
    "          'output/mask/', 'output/joined_mask/', '0')"
   ]
  },
  {
   "cell_type": "code",
   "execution_count": 216,
   "metadata": {},
   "outputs": [
    {
     "data": {
      "text/plain": [
       "[None,\n",
       " None,\n",
       " None,\n",
       " None,\n",
       " None,\n",
       " None,\n",
       " None,\n",
       " None,\n",
       " None,\n",
       " None,\n",
       " None,\n",
       " None,\n",
       " None,\n",
       " None,\n",
       " None,\n",
       " None,\n",
       " None,\n",
       " None,\n",
       " None,\n",
       " None,\n",
       " None,\n",
       " None,\n",
       " None,\n",
       " None,\n",
       " None,\n",
       " None,\n",
       " None,\n",
       " None,\n",
       " None,\n",
       " None,\n",
       " None,\n",
       " None,\n",
       " None,\n",
       " None,\n",
       " None,\n",
       " None,\n",
       " None,\n",
       " None,\n",
       " None,\n",
       " None,\n",
       " None,\n",
       " None,\n",
       " None,\n",
       " None,\n",
       " None,\n",
       " None,\n",
       " None,\n",
       " None,\n",
       " None,\n",
       " None,\n",
       " None,\n",
       " None,\n",
       " None,\n",
       " None,\n",
       " None,\n",
       " None,\n",
       " None,\n",
       " None,\n",
       " None,\n",
       " None,\n",
       " None,\n",
       " None,\n",
       " None,\n",
       " None,\n",
       " None]"
      ]
     },
     "execution_count": 216,
     "metadata": {},
     "output_type": "execute_result"
    }
   ],
   "source": [
    "[join_mask(128, img, 'output/mask/', 'output/joined_mask/', '0') for img in imgs]"
   ]
  },
  {
   "cell_type": "code",
   "execution_count": 40,
   "metadata": {},
   "outputs": [
    {
     "data": {
      "text/plain": [
       "<matplotlib.image.AxesImage at 0x7f4c68830c18>"
      ]
     },
     "execution_count": 40,
     "metadata": {},
     "output_type": "execute_result"
    },
    {
     "data": {
      "image/png": "[encoded data removed]",
      "text/plain": [
       "<matplotlib.figure.Figure at 0x7f4c68878ac8>"
      ]
     },
     "metadata": {},
     "output_type": "display_data"
    }
   ],
   "source": [
    "plt.imshow(mat[0])"
   ]
  },
  {
   "cell_type": "code",
   "execution_count": 26,
   "metadata": {},
   "outputs": [
    {
     "name": "stdout",
     "output_type": "stream",
     "text": [
      "1\n",
      "ex\n",
      "ex\n",
      "ex\n",
      "ex\n"
     ]
    }
   ],
   "source": [
    "crop('data/cropped_test',\n",
    "     'data/stage1_test/0114f484a16c152baa2d82fdd43740880a762c93f436c8988ac461c5c9dbe7d5/images/0114f484a16c152baa2d82fdd43740880a762c93f436c8988ac461c5c9dbe7d5.png',\n",
    "     128, 128)"
   ]
  },
  {
   "cell_type": "code",
   "execution_count": 13,
   "metadata": {},
   "outputs": [],
   "source": [
    "res = cv2.resize(image, (128, 128), cv2.INTER_CUBIC)"
   ]
  },
  {
   "cell_type": "code",
   "execution_count": 14,
   "metadata": {},
   "outputs": [
    {
     "data": {
      "text/plain": [
       "<matplotlib.image.AxesImage at 0x7f4c68e5a550>"
      ]
     },
     "execution_count": 14,
     "metadata": {},
     "output_type": "execute_result"
    },
    {
     "data": {
      "image/png": "[encoded data removed]",
      "text/plain": [
       "<matplotlib.figure.Figure at 0x7f4c68efca20>"
      ]
     },
     "metadata": {},
     "output_type": "display_data"
    }
   ],
   "source": [
    "plt.imshow(image)"
   ]
  },
  {
   "cell_type": "code",
   "execution_count": 15,
   "metadata": {},
   "outputs": [
    {
     "data": {
      "text/plain": [
       "<matplotlib.image.AxesImage at 0x7f4c68e3cf98>"
      ]
     },
     "execution_count": 15,
     "metadata": {},
     "output_type": "execute_result"
    },
    {
     "data": {
      "image/png": "[encoded data removed]",
      "text/plain": [
       "<matplotlib.figure.Figure at 0x7f4c68e76080>"
      ]
     },
     "metadata": {},
     "output_type": "display_data"
    }
   ],
   "source": [
    "plt.imshow(res)"
   ]
  },
  {
   "cell_type": "code",
   "execution_count": 3,
   "metadata": {},
   "outputs": [
    {
     "data": {
      "text/plain": [
       "(256, 256)"
      ]
     },
     "execution_count": 3,
     "metadata": {},
     "output_type": "execute_result"
    }
   ],
   "source": [
    "mask.shape"
   ]
  },
  {
   "cell_type": "code",
   "execution_count": 28,
   "metadata": {},
   "outputs": [
    {
     "data": {
      "text/plain": [
       "(4, 128, 128)"
      ]
     },
     "execution_count": 28,
     "metadata": {},
     "output_type": "execute_result"
    }
   ],
   "source": [
    "test = np.zeros([4,3,128,128])\n",
    "test[:,0,:,:].shape"
   ]
  },
  {
   "cell_type": "code",
   "execution_count": 6,
   "metadata": {},
   "outputs": [
    {
     "data": {
      "text/plain": [
       "(3, 256, 256)"
      ]
     },
     "execution_count": 6,
     "metadata": {},
     "output_type": "execute_result"
    }
   ],
   "source": [
    "mask1.shape"
   ]
  },
  {
   "cell_type": "code",
   "execution_count": 5,
   "metadata": {},
   "outputs": [],
   "source": [
    "mask1 = np.zeros((3, *mask.shape))"
   ]
  },
  {
   "cell_type": "code",
   "execution_count": 23,
   "metadata": {},
   "outputs": [],
   "source": [
    "#mask1 = np.zeros(3, (*mask.shape))\n",
    "kernel = np.ones((4, 4), np.uint8)\n",
    "seed = cv2.erode(mask[:,:,0], kernel, iterations=1)\n",
    "border = mask[:,:,0] - seed\n",
    "mask[:,:,1] = np.zeros(seed.shape)\n",
    "mask[:,:,1] = seed\n",
    "mask[:,:,2] = np.zeros(seed.shape)\n",
    "mask[:,:,2] = border"
   ]
  },
  {
   "cell_type": "code",
   "execution_count": 26,
   "metadata": {},
   "outputs": [
    {
     "data": {
      "text/plain": [
       "<matplotlib.image.AxesImage at 0x7f05575788d0>"
      ]
     },
     "execution_count": 26,
     "metadata": {},
     "output_type": "execute_result"
    },
    {
     "data": {
      "image/png": "[encoded data removed]",
      "text/plain": [
       "<matplotlib.figure.Figure at 0x7f05575a7c50>"
      ]
     },
     "metadata": {},
     "output_type": "display_data"
    }
   ],
   "source": [
    "plt.imshow(mask[:,:,0], 'gray')"
   ]
  },
  {
   "cell_type": "code",
   "execution_count": 63,
   "metadata": {},
   "outputs": [],
   "source": [
    "train_path = 'data/stage1_train/'"
   ]
  },
  {
   "cell_type": "code",
   "execution_count": 30,
   "metadata": {},
   "outputs": [],
   "source": [
    "masks_path = 'data/stage1_train/00071198d059ba7f5914a526d124d28e6d010c92466da21d4a04cd5413362552/masks'"
   ]
  },
  {
   "cell_type": "code",
   "execution_count": 87,
   "metadata": {},
   "outputs": [
    {
     "name": "stderr",
     "output_type": "stream",
     "text": [
      "\n",
      "  0%|          | 0/664 [00:00<?, ?it/s]\u001b[A\n",
      "  1%|          | 6/664 [00:00<00:27, 23.66it/s]\u001b[A\n",
      "  1%|          | 8/664 [00:00<00:51, 12.75it/s]\u001b[A\n",
      "  2%|▏         | 11/664 [00:00<00:55, 11.71it/s]\u001b[A\n",
      "  3%|▎         | 19/664 [00:00<00:41, 15.71it/s]\u001b[A\n",
      "  4%|▍         | 25/664 [00:01<00:31, 20.02it/s]\u001b[A\n",
      "  4%|▍         | 29/664 [00:01<00:27, 23.23it/s]\u001b[A\n",
      "  5%|▌         | 36/664 [00:01<00:23, 26.60it/s]\u001b[A\n",
      "  6%|▌         | 40/664 [00:01<00:22, 27.31it/s]\u001b[A\n",
      "  7%|▋         | 46/664 [00:01<00:19, 32.42it/s]\u001b[A\n",
      "  8%|▊         | 51/664 [00:03<01:12,  8.41it/s]\u001b[A\n",
      "  9%|▊         | 58/664 [00:03<01:00,  9.96it/s]\u001b[A\n",
      " 10%|▉         | 65/664 [00:03<00:44, 13.35it/s]\u001b[A\n",
      " 10%|█         | 69/664 [00:04<00:51, 11.61it/s]\u001b[A\n",
      " 11%|█         | 73/664 [00:04<00:41, 14.16it/s]\u001b[A\n",
      " 12%|█▏        | 79/664 [00:04<00:31, 18.33it/s]\u001b[A\n",
      " 13%|█▎        | 85/664 [00:04<00:25, 22.75it/s]\u001b[A\n",
      " 14%|█▎        | 90/664 [00:04<00:28, 19.98it/s]\u001b[A\n",
      " 14%|█▍        | 94/664 [00:05<00:37, 15.36it/s]\u001b[A\n",
      " 15%|█▍        | 97/664 [00:05<00:38, 14.72it/s]\u001b[A\n",
      " 15%|█▌        | 100/664 [00:05<00:40, 14.06it/s]\u001b[A\n",
      " 16%|█▌        | 105/664 [00:05<00:31, 17.54it/s]\u001b[A\n",
      " 17%|█▋        | 112/664 [00:06<00:25, 21.49it/s]\u001b[A\n",
      " 18%|█▊        | 119/664 [00:06<00:20, 26.60it/s]\u001b[A\n",
      " 19%|█▊        | 124/664 [00:06<00:17, 30.69it/s]\u001b[A\n",
      " 19%|█▉        | 129/664 [00:06<00:28, 18.47it/s]\u001b[A\n",
      " 20%|██        | 133/664 [00:07<00:46, 11.38it/s]\u001b[A\n",
      " 21%|██        | 141/664 [00:07<00:40, 12.85it/s]\u001b[A\n",
      " 22%|██▏       | 145/664 [00:07<00:32, 15.87it/s]\u001b[A\n",
      " 32%|███▏      | 214/664 [00:30<01:03,  7.13it/s]\u001b[A\n",
      "100%|██████████| 664/664 [00:43<00:00, 15.20it/s]\n"
     ]
    }
   ],
   "source": [
    "files = os.listdir(train_path)\n",
    "kernel = np.ones((3,3),np.uint8)\n",
    "for i in tqdm(range(len(files))):\n",
    "    masks = os.path.join(files[i], 'masks')\n",
    "    img_path = os.path.join(train_path, masks)\n",
    "    mask = unite(img_path)\n",
    "    seed = cv2.erode(mask, kernel,iterations = 1)\n",
    "    border = mask - seed\n",
    "    cv2.imwrite(img_path + 'mask.png', mask)\n",
    "    cv2.imwrite(img_path + 'seed.png', seed)\n",
    "    cv2.imwrite(img_path + 'border.png', border)"
   ]
  },
  {
   "cell_type": "code",
   "execution_count": 86,
   "metadata": {},
   "outputs": [],
   "source": [
    "def unite(masks_path):\n",
    "    one_true = None\n",
    "    for image in os.listdir(masks_path):\n",
    "        img_path = os.path.join(masks_path, image)\n",
    "        img_mask = cv2.imread(img_path)\n",
    "        if not hasattr(one_true, 'shape'):\n",
    "            one_true = img_mask\n",
    "            # print(img_path)\n",
    "        else:\n",
    "            one_true = one_true + img_mask\n",
    "    return one_true"
   ]
  },
  {
   "cell_type": "code",
   "execution_count": 62,
   "metadata": {},
   "outputs": [
    {
     "data": {
      "text/plain": [
       "<matplotlib.image.AxesImage at 0x7f9dac8bc668>"
      ]
     },
     "execution_count": 62,
     "metadata": {},
     "output_type": "execute_result"
    },
    {
     "data": {
      "image/png": "[encoded data removed]",
      "text/plain": [
       "<matplotlib.figure.Figure at 0x7f9dac87de48>"
      ]
     },
     "metadata": {},
     "output_type": "display_data"
    }
   ],
   "source": [
    "plt.imshow(one_true)"
   ]
  },
  {
   "cell_type": "code",
   "execution_count": 50,
   "metadata": {},
   "outputs": [],
   "source": [
    "img = cv2.imread('data/stage1_train/00071198d059ba7f5914a526d124d28e6d010c92466da21d4a04cd5413362552/masks/07a9bf1d7594af2763c86e93f05d22c4d5181353c6d3ab30a345b908ffe5aadc.png')"
   ]
  },
  {
   "cell_type": "code",
   "execution_count": 51,
   "metadata": {},
   "outputs": [
    {
     "data": {
      "text/plain": [
       "(256, 256, 3)"
      ]
     },
     "execution_count": 51,
     "metadata": {},
     "output_type": "execute_result"
    }
   ],
   "source": [
    "img.shape"
   ]
  },
  {
   "cell_type": "code",
   "execution_count": 52,
   "metadata": {},
   "outputs": [
    {
     "data": {
      "text/plain": [
       "<matplotlib.image.AxesImage at 0x7f9daca5a518>"
      ]
     },
     "execution_count": 52,
     "metadata": {},
     "output_type": "execute_result"
    },
    {
     "data": {
      "image/png": "[encoded data removed]",
      "text/plain": [
       "<matplotlib.figure.Figure at 0x7f9dacacf3c8>"
      ]
     },
     "metadata": {},
     "output_type": "display_data"
    }
   ],
   "source": [
    "kernel = np.ones((3,3),np.uint8)\n",
    "eroison = cv2.erode(img, kernel,iterations = 1)\n",
    "border = img - eroison\n",
    "plt.imshow(eroison)"
   ]
  },
  {
   "cell_type": "code",
   "execution_count": 54,
   "metadata": {},
   "outputs": [
    {
     "name": "stdout",
     "output_type": "stream",
     "text": [
      "(256, 256, 3)\n"
     ]
    },
    {
     "data": {
      "image/png": "[encoded data removed]",
      "text/plain": [
       "<matplotlib.figure.Figure at 0x7f9daca38ac8>"
      ]
     },
     "metadata": {},
     "output_type": "display_data"
    }
   ],
   "source": [
    "plt.imshow(border)\n",
    "print(border.shape)"
   ]
  },
  {
   "cell_type": "code",
   "execution_count": 14,
   "metadata": {},
   "outputs": [
    {
     "data": {
      "text/plain": [
       "<matplotlib.image.AxesImage at 0x7f9dacffacf8>"
      ]
     },
     "execution_count": 14,
     "metadata": {},
     "output_type": "execute_result"
    },
    {
     "data": {
      "image/png": "[encoded data removed]",
      "text/plain": [
       "<matplotlib.figure.Figure at 0x7f9dad2229b0>"
      ]
     },
     "metadata": {},
     "output_type": "display_data"
    }
   ],
   "source": [
    "kernel = np.ones((3,3),np.uint8)\n",
    "gradient = cv2.morphologyEx(img, cv2.MORPH_GRADIENT, kernel)\n",
    "plt.imshow(gradient)"
   ]
  },
  {
   "cell_type": "code",
   "execution_count": 15,
   "metadata": {},
   "outputs": [
    {
     "data": {
      "image/png": "[encoded data removed]",
      "text/plain": [
       "<matplotlib.figure.Figure at 0x7f68a80807f0>"
      ]
     },
     "metadata": {},
     "output_type": "display_data"
    }
   ],
   "source": [
    "import numpy as np\n",
    "import matplotlib.pyplot as plt\n",
    "from scipy import ndimage as ndi\n",
    "\n",
    "from skimage.morphology import watershed\n",
    "from skimage.feature import peak_local_max\n",
    "\n",
    "\n",
    "# Generate an initial image with two overlapping circles\n",
    "x, y = np.indices((80, 80))\n",
    "x1, y1, x2, y2 = 28, 28, 44, 52\n",
    "r1, r2 = 16, 20\n",
    "mask_circle1 = (x - x1)**2 + (y - y1)**2 < r1**2\n",
    "mask_circle2 = (x - x2)**2 + (y - y2)**2 < r2**2\n",
    "image = np.logical_or(mask_circle1, mask_circle2)\n",
    "\n",
    "# Now we want to separate the two objects in image\n",
    "# Generate the markers as local maxima of the distance to the background\n",
    "image = mask\n",
    "distance = ndi.distance_transform_edt(image)\n",
    "local_maxi = peak_local_max(distance, indices=False, footprint=np.ones((3, 3)),\n",
    "                            labels=image)\n",
    "markers = ndi.label(local_maxi)[0]\n",
    "labels = watershed(-distance, markers, mask=image)\n",
    "\n",
    "fig, axes = plt.subplots(ncols=3, figsize=(9, 3), sharex=True, sharey=True)\n",
    "ax = axes.ravel()\n",
    "\n",
    "ax[0].imshow(image, cmap=plt.cm.gray, interpolation='nearest')\n",
    "ax[0].set_title('Overlapping objects')\n",
    "ax[1].imshow(-distance, cmap=plt.cm.gray, interpolation='nearest')\n",
    "ax[1].set_title('Distances')\n",
    "ax[2].imshow(labels, cmap=plt.cm.nipy_spectral, interpolation='nearest')\n",
    "ax[2].set_title('Separated objects')\n",
    "\n",
    "for a in ax:\n",
    "    a.set_axis_off()\n",
    "\n",
    "fig.tight_layout()\n",
    "plt.show()"
   ]
  },
  {
   "cell_type": "code",
   "execution_count": 21,
   "metadata": {},
   "outputs": [
    {
     "data": {
      "text/plain": [
       "<matplotlib.image.AxesImage at 0x7f68a7dc6fd0>"
      ]
     },
     "execution_count": 21,
     "metadata": {},
     "output_type": "execute_result"
    },
    {
     "data": {
      "image/png": "[encoded data removed]",
      "text/plain": [
       "<matplotlib.figure.Figure at 0x7f68a81d9278>"
      ]
     },
     "metadata": {},
     "output_type": "display_data"
    }
   ],
   "source": [
    "plt.imshow(-distance, 'gray')"
   ]
  },
  {
   "cell_type": "code",
   "execution_count": null,
   "metadata": {},
   "outputs": [],
   "source": []
  },
  {
   "cell_type": "code",
   "execution_count": 27,
   "metadata": {},
   "outputs": [
    {
     "data": {
      "text/plain": [
       "(256, 256)"
      ]
     },
     "execution_count": 27,
     "metadata": {},
     "output_type": "execute_result"
    }
   ],
   "source": [
    "labels.shape"
   ]
  }
 ],
 "metadata": {
  "kernelspec": {
   "display_name": "Python 3",
   "language": "python",
   "name": "python3"
  },
  "language_info": {
   "codemirror_mode": {
    "name": "ipython",
    "version": 3
   },
   "file_extension": ".py",
   "mimetype": "text/x-python",
   "name": "python",
   "nbconvert_exporter": "python",
   "pygments_lexer": "ipython3",
   "version": "3.6.4"
  }
 },
 "nbformat": 4,
 "nbformat_minor": 2
}
