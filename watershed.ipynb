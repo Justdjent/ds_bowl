{
 "cells": [
  {
   "cell_type": "code",
   "execution_count": 1,
   "metadata": {},
   "outputs": [],
   "source": [
    "import cv2\n",
    "import matplotlib.pyplot as plt\n",
    "import numpy as np\n",
    "import os\n",
    "from tqdm import tqdm\n",
    "%matplotlib inline"
   ]
  },
  {
   "cell_type": "code",
   "execution_count": 2,
   "metadata": {},
   "outputs": [],
   "source": [
    "mask = cv2.imread('data/stage1_train/00071198d059ba7f5914a526d124d28e6d010c92466da21d4a04cd5413362552/masksmask.png')"
   ]
  },
  {
   "cell_type": "code",
   "execution_count": 3,
   "metadata": {},
   "outputs": [
    {
     "data": {
      "text/plain": [
       "(256, 256, 3)"
      ]
     },
     "execution_count": 3,
     "metadata": {},
     "output_type": "execute_result"
    }
   ],
   "source": [
    "mask.shape"
   ]
  },
  {
   "cell_type": "code",
   "execution_count": 28,
   "metadata": {},
   "outputs": [
    {
     "data": {
      "text/plain": [
       "(4, 128, 128)"
      ]
     },
     "execution_count": 28,
     "metadata": {},
     "output_type": "execute_result"
    }
   ],
   "source": [
    "test = np.zeros([4,3,128,128])\n",
    "test[:,0,:,:].shape"
   ]
  },
  {
   "cell_type": "code",
   "execution_count": 6,
   "metadata": {},
   "outputs": [
    {
     "data": {
      "text/plain": [
       "(3, 256, 256)"
      ]
     },
     "execution_count": 6,
     "metadata": {},
     "output_type": "execute_result"
    }
   ],
   "source": [
    "mask1.shape"
   ]
  },
  {
   "cell_type": "code",
   "execution_count": 5,
   "metadata": {},
   "outputs": [],
   "source": [
    "mask1 = np.zeros((3, *mask.shape))"
   ]
  },
  {
   "cell_type": "code",
   "execution_count": 23,
   "metadata": {},
   "outputs": [],
   "source": [
    "#mask1 = np.zeros(3, (*mask.shape))\n",
    "kernel = np.ones((4, 4), np.uint8)\n",
    "seed = cv2.erode(mask[:,:,0], kernel, iterations=1)\n",
    "border = mask[:,:,0] - seed\n",
    "mask[:,:,1] = np.zeros(seed.shape)\n",
    "mask[:,:,1] = seed\n",
    "mask[:,:,2] = np.zeros(seed.shape)\n",
    "mask[:,:,2] = border"
   ]
  },
  {
   "cell_type": "code",
   "execution_count": 26,
   "metadata": {},
   "outputs": [
    {
     "data": {
      "text/plain": [
       "<matplotlib.image.AxesImage at 0x7f05575788d0>"
      ]
     },
     "execution_count": 26,
     "metadata": {},
     "output_type": "execute_result"
    },
    {
     "data": {
      "image/png": "[encoded data removed]",
      "text/plain": [
       "<matplotlib.figure.Figure at 0x7f05575a7c50>"
      ]
     },
     "metadata": {},
     "output_type": "display_data"
    }
   ],
   "source": [
    "plt.imshow(mask[:,:,0], 'gray')"
   ]
  },
  {
   "cell_type": "code",
   "execution_count": 63,
   "metadata": {},
   "outputs": [],
   "source": [
    "train_path = 'data/stage1_train/'"
   ]
  },
  {
   "cell_type": "code",
   "execution_count": 30,
   "metadata": {},
   "outputs": [],
   "source": [
    "masks_path = 'data/stage1_train/00071198d059ba7f5914a526d124d28e6d010c92466da21d4a04cd5413362552/masks'"
   ]
  },
  {
   "cell_type": "code",
   "execution_count": 87,
   "metadata": {},
   "outputs": [
    {
     "name": "stderr",
     "output_type": "stream",
     "text": [
      "\n",
      "  0%|          | 0/664 [00:00<?, ?it/s]\u001b[A\n",
      "  1%|          | 6/664 [00:00<00:27, 23.66it/s]\u001b[A\n",
      "  1%|          | 8/664 [00:00<00:51, 12.75it/s]\u001b[A\n",
      "  2%|▏         | 11/664 [00:00<00:55, 11.71it/s]\u001b[A\n",
      "  3%|▎         | 19/664 [00:00<00:41, 15.71it/s]\u001b[A\n",
      "  4%|▍         | 25/664 [00:01<00:31, 20.02it/s]\u001b[A\n",
      "  4%|▍         | 29/664 [00:01<00:27, 23.23it/s]\u001b[A\n",
      "  5%|▌         | 36/664 [00:01<00:23, 26.60it/s]\u001b[A\n",
      "  6%|▌         | 40/664 [00:01<00:22, 27.31it/s]\u001b[A\n",
      "  7%|▋         | 46/664 [00:01<00:19, 32.42it/s]\u001b[A\n",
      "  8%|▊         | 51/664 [00:03<01:12,  8.41it/s]\u001b[A\n",
      "  9%|▊         | 58/664 [00:03<01:00,  9.96it/s]\u001b[A\n",
      " 10%|▉         | 65/664 [00:03<00:44, 13.35it/s]\u001b[A\n",
      " 10%|█         | 69/664 [00:04<00:51, 11.61it/s]\u001b[A\n",
      " 11%|█         | 73/664 [00:04<00:41, 14.16it/s]\u001b[A\n",
      " 12%|█▏        | 79/664 [00:04<00:31, 18.33it/s]\u001b[A\n",
      " 13%|█▎        | 85/664 [00:04<00:25, 22.75it/s]\u001b[A\n",
      " 14%|█▎        | 90/664 [00:04<00:28, 19.98it/s]\u001b[A\n",
      " 14%|█▍        | 94/664 [00:05<00:37, 15.36it/s]\u001b[A\n",
      " 15%|█▍        | 97/664 [00:05<00:38, 14.72it/s]\u001b[A\n",
      " 15%|█▌        | 100/664 [00:05<00:40, 14.06it/s]\u001b[A\n",
      " 16%|█▌        | 105/664 [00:05<00:31, 17.54it/s]\u001b[A\n",
      " 17%|█▋        | 112/664 [00:06<00:25, 21.49it/s]\u001b[A\n",
      " 18%|█▊        | 119/664 [00:06<00:20, 26.60it/s]\u001b[A\n",
      " 19%|█▊        | 124/664 [00:06<00:17, 30.69it/s]\u001b[A\n",
      " 19%|█▉        | 129/664 [00:06<00:28, 18.47it/s]\u001b[A\n",
      " 20%|██        | 133/664 [00:07<00:46, 11.38it/s]\u001b[A\n",
      " 21%|██        | 141/664 [00:07<00:40, 12.85it/s]\u001b[A\n",
      " 22%|██▏       | 145/664 [00:07<00:32, 15.87it/s]\u001b[A\n",
      " 32%|███▏      | 214/664 [00:30<01:03,  7.13it/s]\u001b[A\n",
      "100%|██████████| 664/664 [00:43<00:00, 15.20it/s]\n"
     ]
    }
   ],
   "source": [
    "files = os.listdir(train_path)\n",
    "kernel = np.ones((3,3),np.uint8)\n",
    "for i in tqdm(range(len(files))):\n",
    "    masks = os.path.join(files[i], 'masks')\n",
    "    img_path = os.path.join(train_path, masks)\n",
    "    mask = unite(img_path)\n",
    "    seed = cv2.erode(mask, kernel,iterations = 1)\n",
    "    border = mask - seed\n",
    "    cv2.imwrite(img_path + 'mask.png', mask)\n",
    "    cv2.imwrite(img_path + 'seed.png', seed)\n",
    "    cv2.imwrite(img_path + 'border.png', border)"
   ]
  },
  {
   "cell_type": "code",
   "execution_count": 86,
   "metadata": {},
   "outputs": [],
   "source": [
    "def unite(masks_path):\n",
    "    one_true = None\n",
    "    for image in os.listdir(masks_path):\n",
    "        img_path = os.path.join(masks_path, image)\n",
    "        img_mask = cv2.imread(img_path)\n",
    "        if not hasattr(one_true, 'shape'):\n",
    "            one_true = img_mask\n",
    "            # print(img_path)\n",
    "        else:\n",
    "            one_true = one_true + img_mask\n",
    "    return one_true"
   ]
  },
  {
   "cell_type": "code",
   "execution_count": 62,
   "metadata": {},
   "outputs": [
    {
     "data": {
      "text/plain": [
       "<matplotlib.image.AxesImage at 0x7f9dac8bc668>"
      ]
     },
     "execution_count": 62,
     "metadata": {},
     "output_type": "execute_result"
    },
    {
     "data": {
      "image/png": "[encoded data removed]",
      "text/plain": [
       "<matplotlib.figure.Figure at 0x7f9dac87de48>"
      ]
     },
     "metadata": {},
     "output_type": "display_data"
    }
   ],
   "source": [
    "plt.imshow(one_true)"
   ]
  },
  {
   "cell_type": "code",
   "execution_count": 50,
   "metadata": {},
   "outputs": [],
   "source": [
    "img = cv2.imread('data/stage1_train/00071198d059ba7f5914a526d124d28e6d010c92466da21d4a04cd5413362552/masks/07a9bf1d7594af2763c86e93f05d22c4d5181353c6d3ab30a345b908ffe5aadc.png')"
   ]
  },
  {
   "cell_type": "code",
   "execution_count": 51,
   "metadata": {},
   "outputs": [
    {
     "data": {
      "text/plain": [
       "(256, 256, 3)"
      ]
     },
     "execution_count": 51,
     "metadata": {},
     "output_type": "execute_result"
    }
   ],
   "source": [
    "img.shape"
   ]
  },
  {
   "cell_type": "code",
   "execution_count": 52,
   "metadata": {},
   "outputs": [
    {
     "data": {
      "text/plain": [
       "<matplotlib.image.AxesImage at 0x7f9daca5a518>"
      ]
     },
     "execution_count": 52,
     "metadata": {},
     "output_type": "execute_result"
    },
    {
     "data": {
      "image/png": "[encoded data removed]",
      "text/plain": [
       "<matplotlib.figure.Figure at 0x7f9dacacf3c8>"
      ]
     },
     "metadata": {},
     "output_type": "display_data"
    }
   ],
   "source": [
    "kernel = np.ones((3,3),np.uint8)\n",
    "eroison = cv2.erode(img, kernel,iterations = 1)\n",
    "border = img - eroison\n",
    "plt.imshow(eroison)"
   ]
  },
  {
   "cell_type": "code",
   "execution_count": 54,
   "metadata": {},
   "outputs": [
    {
     "name": "stdout",
     "output_type": "stream",
     "text": [
      "(256, 256, 3)\n"
     ]
    },
    {
     "data": {
      "image/png": "[encoded data removed]",
      "text/plain": [
       "<matplotlib.figure.Figure at 0x7f9daca38ac8>"
      ]
     },
     "metadata": {},
     "output_type": "display_data"
    }
   ],
   "source": [
    "plt.imshow(border)\n",
    "print(border.shape)"
   ]
  },
  {
   "cell_type": "code",
   "execution_count": 14,
   "metadata": {},
   "outputs": [
    {
     "data": {
      "text/plain": [
       "<matplotlib.image.AxesImage at 0x7f9dacffacf8>"
      ]
     },
     "execution_count": 14,
     "metadata": {},
     "output_type": "execute_result"
    },
    {
     "data": {
      "image/png": "[encoded data removed]",
      "text/plain": [
       "<matplotlib.figure.Figure at 0x7f9dad2229b0>"
      ]
     },
     "metadata": {},
     "output_type": "display_data"
    }
   ],
   "source": [
    "kernel = np.ones((3,3),np.uint8)\n",
    "gradient = cv2.morphologyEx(img, cv2.MORPH_GRADIENT, kernel)\n",
    "plt.imshow(gradient)"
   ]
  },
  {
   "cell_type": "code",
   "execution_count": null,
   "metadata": {},
   "outputs": [],
   "source": []
  }
 ],
 "metadata": {
  "kernelspec": {
   "display_name": "Python 3",
   "language": "python",
   "name": "python3"
  },
  "language_info": {
   "codemirror_mode": {
    "name": "ipython",
    "version": 3
   },
   "file_extension": ".py",
   "mimetype": "text/x-python",
   "name": "python",
   "nbconvert_exporter": "python",
   "pygments_lexer": "ipython3",
   "version": "3.5.2"
  }
 },
 "nbformat": 4,
 "nbformat_minor": 2
}
